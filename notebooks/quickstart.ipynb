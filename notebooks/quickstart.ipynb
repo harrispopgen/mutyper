{
 "cells": [
  {
   "cell_type": "markdown",
   "metadata": {
    "slideshow": {
     "slide_type": "slide"
    }
   },
   "source": [
    "Quickstart\n",
    "==\n",
    "\n",
    "This notebook demonstrates how to use `mutyper` for computing mutation type data for VCF/BCF data"
   ]
  },
  {
   "cell_type": "markdown",
   "metadata": {},
   "source": [
    "## Python API demo"
   ]
  },
  {
   "cell_type": "code",
   "execution_count": 1,
   "metadata": {
    "execution": {
     "iopub.execute_input": "2022-11-12T00:20:01.762585Z",
     "iopub.status.busy": "2022-11-12T00:20:01.761710Z",
     "iopub.status.idle": "2022-11-12T00:20:01.866268Z",
     "shell.execute_reply": "2022-11-12T00:20:01.865567Z"
    }
   },
   "outputs": [],
   "source": [
    "import mutyper"
   ]
  },
  {
   "cell_type": "markdown",
   "metadata": {},
   "source": [
    "Path to an ancestral FASTA file for human chromosome 1"
   ]
  },
  {
   "cell_type": "code",
   "execution_count": 2,
   "metadata": {
    "execution": {
     "iopub.execute_input": "2022-11-12T00:20:01.870422Z",
     "iopub.status.busy": "2022-11-12T00:20:01.869823Z",
     "iopub.status.idle": "2022-11-12T00:20:01.873081Z",
     "shell.execute_reply": "2022-11-12T00:20:01.872549Z"
    },
    "slideshow": {
     "slide_type": "-"
    }
   },
   "outputs": [],
   "source": [
    "fasta = '../example_data/ancestor.fa'"
   ]
  },
  {
   "cell_type": "markdown",
   "metadata": {},
   "source": [
    "Show the first 3 lines with a bash cell"
   ]
  },
  {
   "cell_type": "code",
   "execution_count": 3,
   "metadata": {
    "execution": {
     "iopub.execute_input": "2022-11-12T00:20:01.878094Z",
     "iopub.status.busy": "2022-11-12T00:20:01.876865Z",
     "iopub.status.idle": "2022-11-12T00:20:02.036764Z",
     "shell.execute_reply": "2022-11-12T00:20:02.035396Z"
    }
   },
   "outputs": [
    {
     "name": "stdout",
     "output_type": "stream",
     "text": [
      ">1\r\n",
      "TTTGTGGGAgACTATTCCTCCCATCTGCAACAGCTGCCCCTGCTGACTGCCCTTCTCTCCTCCCTCTCATCCCAGAGAAACAgGTCAGCTGGGAGCTTCT\r\n",
      "GCCCCCACTGCCTAGGGACCAACAGGGGCAGGAGGCAGTCACTGACCCCGAGACGTTTGCATCCTGCACAGCTAGAGATCCTTTATTAAAAGCACACTGT\r\n"
     ]
    }
   ],
   "source": [
    "!head -3 {fasta}"
   ]
  },
  {
   "cell_type": "markdown",
   "metadata": {
    "slideshow": {
     "slide_type": "slide"
    }
   },
   "source": [
    "The `mutyper` package has a single class `Ancestor`. We instantiate an `Ancestor` object using our FASTA file\n",
    "- We're interested in 3-mer context, which we can indicate with the `k` keyword argument (by default it will be 3 though)."
   ]
  },
  {
   "cell_type": "code",
   "execution_count": 4,
   "metadata": {
    "execution": {
     "iopub.execute_input": "2022-11-12T00:20:02.041953Z",
     "iopub.status.busy": "2022-11-12T00:20:02.041142Z",
     "iopub.status.idle": "2022-11-12T00:20:02.047236Z",
     "shell.execute_reply": "2022-11-12T00:20:02.046454Z"
    },
    "slideshow": {
     "slide_type": "-"
    }
   },
   "outputs": [],
   "source": [
    "ancestor = mutyper.Ancestor(fasta, k=3)"
   ]
  },
  {
   "cell_type": "markdown",
   "metadata": {
    "slideshow": {
     "slide_type": "slide"
    }
   },
   "source": [
    "We can inspect FASTA record names, showing that the FASTA contains two records, chromosome `'1'` and `'2'`."
   ]
  },
  {
   "cell_type": "code",
   "execution_count": 5,
   "metadata": {
    "execution": {
     "iopub.execute_input": "2022-11-12T00:20:02.050656Z",
     "iopub.status.busy": "2022-11-12T00:20:02.050145Z",
     "iopub.status.idle": "2022-11-12T00:20:02.061775Z",
     "shell.execute_reply": "2022-11-12T00:20:02.060999Z"
    },
    "slideshow": {
     "slide_type": "-"
    }
   },
   "outputs": [
    {
     "data": {
      "text/plain": [
       "odict_keys(['1', '2'])"
      ]
     },
     "execution_count": 5,
     "metadata": {},
     "output_type": "execute_result"
    }
   ],
   "source": [
    "ancestor.keys()"
   ]
  },
  {
   "cell_type": "code",
   "execution_count": 6,
   "metadata": {
    "execution": {
     "iopub.execute_input": "2022-11-12T00:20:02.066338Z",
     "iopub.status.busy": "2022-11-12T00:20:02.065686Z",
     "iopub.status.idle": "2022-11-12T00:20:02.070488Z",
     "shell.execute_reply": "2022-11-12T00:20:02.069683Z"
    },
    "slideshow": {
     "slide_type": "-"
    }
   },
   "outputs": [
    {
     "data": {
      "text/plain": [
       "FastaRecord(\"1\")"
      ]
     },
     "execution_count": 6,
     "metadata": {},
     "output_type": "execute_result"
    }
   ],
   "source": [
    "ancestor['1']"
   ]
  },
  {
   "cell_type": "markdown",
   "metadata": {
    "slideshow": {
     "slide_type": "slide"
    }
   },
   "source": [
    "and we can Pythonically slice sequences via fast random access without loading into memory (leaning on [pyfaidx](https://pythonhosted.org/pyfaidx/) under the hood):"
   ]
  },
  {
   "cell_type": "code",
   "execution_count": 7,
   "metadata": {
    "execution": {
     "iopub.execute_input": "2022-11-12T00:20:02.073954Z",
     "iopub.status.busy": "2022-11-12T00:20:02.073565Z",
     "iopub.status.idle": "2022-11-12T00:20:02.078460Z",
     "shell.execute_reply": "2022-11-12T00:20:02.077744Z"
    },
    "slideshow": {
     "slide_type": "-"
    }
   },
   "outputs": [
    {
     "data": {
      "text/plain": [
       ">1:101-300\n",
       "GCCCCCACTGCCTAGGGACCAACAGGGGCAGGAGGCAGTCACTGACCCCGAGACGTTTGCATCCTGCACAGCTAGAGATCCTTTATTAAAAGCACACTGTTGGTTTCTGCTCAGTTCTTTATTGATTGGTGTGCCGTTTTCTCTGGAAGCCTCTTAAGAACACAGTGGCGCAGGCTGGGTGGAGCCGTCCCCCCATGgAG"
      ]
     },
     "execution_count": 7,
     "metadata": {},
     "output_type": "execute_result"
    }
   ],
   "source": [
    "start = 100\n",
    "end = 300\n",
    "ancestor['1'][start:end]"
   ]
  },
  {
   "cell_type": "markdown",
   "metadata": {
    "slideshow": {
     "slide_type": "fragment"
    }
   },
   "source": [
    "We can also access these `FastaRecord` slices as string-like biopython `Seq` objects"
   ]
  },
  {
   "cell_type": "code",
   "execution_count": 8,
   "metadata": {
    "execution": {
     "iopub.execute_input": "2022-11-12T00:20:02.082394Z",
     "iopub.status.busy": "2022-11-12T00:20:02.082152Z",
     "iopub.status.idle": "2022-11-12T00:20:02.086603Z",
     "shell.execute_reply": "2022-11-12T00:20:02.085883Z"
    },
    "slideshow": {
     "slide_type": "-"
    }
   },
   "outputs": [
    {
     "data": {
      "text/plain": [
       "'GCCCCCACTGCCTAGGGACCAACAGGGGCAGGAGGCAGTCACTGACCCCGAGACGTTTGCATCCTGCACAGCTAGAGATCCTTTATTAAAAGCACACTGTTGGTTTCTGCTCAGTTCTTTATTGATTGGTGTGCCGTTTTCTCTGGAAGCCTCTTAAGAACACAGTGGCGCAGGCTGGGTGGAGCCGTCCCCCCATGgAG'"
      ]
     },
     "execution_count": 8,
     "metadata": {},
     "output_type": "execute_result"
    }
   ],
   "source": [
    "ancestor['1'][start:end].seq"
   ]
  },
  {
   "cell_type": "markdown",
   "metadata": {
    "slideshow": {
     "slide_type": "slide"
    }
   },
   "source": [
    "The `mutation_type` method allows us to specify a SNP by the usual CHROM, POS, REF, ALT, and returns the correctly polarized mutation type as a tuple of ancestral kmer and derived kmer.\n",
    "\n",
    "First, consider the triplet context at site 100 on chromosome 1:"
   ]
  },
  {
   "cell_type": "code",
   "execution_count": 9,
   "metadata": {
    "execution": {
     "iopub.execute_input": "2022-11-12T00:20:02.090641Z",
     "iopub.status.busy": "2022-11-12T00:20:02.090400Z",
     "iopub.status.idle": "2022-11-12T00:20:02.094765Z",
     "shell.execute_reply": "2022-11-12T00:20:02.094079Z"
    }
   },
   "outputs": [
    {
     "data": {
      "text/plain": [
       ">1:99-101\n",
       "CTG"
      ]
     },
     "execution_count": 9,
     "metadata": {},
     "output_type": "execute_result"
    }
   ],
   "source": [
    "ancestor['1'][98:101]"
   ]
  },
  {
   "cell_type": "markdown",
   "metadata": {},
   "source": [
    "Suppose a biallelic SNP at this site segregates in a population with reference allele T and alternative allele A. The mutation type of this SNP is"
   ]
  },
  {
   "cell_type": "code",
   "execution_count": 10,
   "metadata": {
    "execution": {
     "iopub.execute_input": "2022-11-12T00:20:02.098844Z",
     "iopub.status.busy": "2022-11-12T00:20:02.098448Z",
     "iopub.status.idle": "2022-11-12T00:20:02.103626Z",
     "shell.execute_reply": "2022-11-12T00:20:02.102904Z"
    },
    "slideshow": {
     "slide_type": "-"
    }
   },
   "outputs": [
    {
     "data": {
      "text/plain": [
       "('CAG', 'CTG')"
      ]
     },
     "execution_count": 10,
     "metadata": {},
     "output_type": "execute_result"
    }
   ],
   "source": [
    "ancestor.mutation_type('1', 99, 'T', 'A')"
   ]
  },
  {
   "cell_type": "markdown",
   "metadata": {},
   "source": [
    "Note that, by default, mutation types are collapsed by reverse complementation such that the ancestral state at the target site is A or C. So in the above, the ancestral state T caused the ancestral triplet CTG to be reversed and complemented to CAG.\n",
    "\n",
    "If the reference and alternative states are both distinct from the ancestral state, the site is not biallelic (an infinite sites violation), and the mutation type is returned as ambiguous."
   ]
  },
  {
   "cell_type": "code",
   "execution_count": 11,
   "metadata": {
    "execution": {
     "iopub.execute_input": "2022-11-12T00:20:02.107610Z",
     "iopub.status.busy": "2022-11-12T00:20:02.107364Z",
     "iopub.status.idle": "2022-11-12T00:20:02.111820Z",
     "shell.execute_reply": "2022-11-12T00:20:02.111117Z"
    }
   },
   "outputs": [
    {
     "data": {
      "text/plain": [
       "(None, None)"
      ]
     },
     "execution_count": 11,
     "metadata": {},
     "output_type": "execute_result"
    }
   ],
   "source": [
    "ancestor.mutation_type('1', 99, 'C', 'A')"
   ]
  },
  {
   "cell_type": "markdown",
   "metadata": {
    "slideshow": {
     "slide_type": "slide"
    }
   },
   "source": [
    "The `region_contexts` method returns a generator of ancestral contexts (by default collapsed as described above) over the positions in a region specified as in BED file format CHROM, START, END"
   ]
  },
  {
   "cell_type": "code",
   "execution_count": 12,
   "metadata": {
    "execution": {
     "iopub.execute_input": "2022-11-12T00:20:02.116192Z",
     "iopub.status.busy": "2022-11-12T00:20:02.115701Z",
     "iopub.status.idle": "2022-11-12T00:20:02.121707Z",
     "shell.execute_reply": "2022-11-12T00:20:02.121163Z"
    },
    "scrolled": false,
    "slideshow": {
     "slide_type": "-"
    }
   },
   "outputs": [
    {
     "name": "stdout",
     "output_type": "stream",
     "text": [
      "CCC CCT AAG GAA TCT GAG TCT GAG TCC CCT GAG TCC CCC CCT GAG TCT GAG TCA CAT GAT TCC CCC CCA CAG TCT GAG TCT GAA AAA AAC ACA None None None GAC TCA CAG GCT GCT CAG CCA CCC TCC GAG GCT GCT AAG GAA TCT CAG "
     ]
    }
   ],
   "source": [
    "start = 50\n",
    "end = 100\n",
    "for context in ancestor.region_contexts('1', start, end):\n",
    "    print(context, end=' ')"
   ]
  },
  {
   "cell_type": "markdown",
   "metadata": {
    "slideshow": {
     "slide_type": "fragment"
    }
   },
   "source": [
    "Note that FASTA sites that are not nucleotide characters have non-identified ancestral state, so context is `None`. "
   ]
  },
  {
   "cell_type": "markdown",
   "metadata": {
    "slideshow": {
     "slide_type": "slide"
    }
   },
   "source": [
    "This generator method is used by the the `targets` method to compute the masked genomic target size for each $k$-mer context from a BED mask file. This may be useful for normalizing spectra in different genomic regions, or calibrating mutation rates."
   ]
  },
  {
   "cell_type": "code",
   "execution_count": 13,
   "metadata": {
    "execution": {
     "iopub.execute_input": "2022-11-12T00:20:02.125205Z",
     "iopub.status.busy": "2022-11-12T00:20:02.124707Z",
     "iopub.status.idle": "2022-11-12T00:20:02.127950Z",
     "shell.execute_reply": "2022-11-12T00:20:02.127321Z"
    },
    "slideshow": {
     "slide_type": "-"
    }
   },
   "outputs": [],
   "source": [
    "bed = '../example_data/mask.bed'"
   ]
  },
  {
   "cell_type": "code",
   "execution_count": 14,
   "metadata": {
    "execution": {
     "iopub.execute_input": "2022-11-12T00:20:02.131113Z",
     "iopub.status.busy": "2022-11-12T00:20:02.130728Z",
     "iopub.status.idle": "2022-11-12T00:20:02.285166Z",
     "shell.execute_reply": "2022-11-12T00:20:02.283576Z"
    }
   },
   "outputs": [
    {
     "name": "stdout",
     "output_type": "stream",
     "text": [
      "1\t25\t50\r\n",
      "1\t150\t175\r\n",
      "2\t50\t100\r\n"
     ]
    }
   ],
   "source": [
    "!cat {bed}"
   ]
  },
  {
   "cell_type": "markdown",
   "metadata": {
    "slideshow": {
     "slide_type": "slide"
    }
   },
   "source": [
    "Under the hood it loops over BED file entries and updates a `Counter` object for the different triplets"
   ]
  },
  {
   "cell_type": "code",
   "execution_count": 15,
   "metadata": {
    "execution": {
     "iopub.execute_input": "2022-11-12T00:20:02.291238Z",
     "iopub.status.busy": "2022-11-12T00:20:02.290945Z",
     "iopub.status.idle": "2022-11-12T00:20:02.300415Z",
     "shell.execute_reply": "2022-11-12T00:20:02.299693Z"
    }
   },
   "outputs": [
    {
     "data": {
      "text/plain": [
       "Counter({'CAG': 10,\n",
       "         'GCA': 9,\n",
       "         'CAA': 2,\n",
       "         'AAC': 3,\n",
       "         'ACA': 2,\n",
       "         'GCT': 7,\n",
       "         'GCC': 4,\n",
       "         'CCC': 3,\n",
       "         'CCT': 3,\n",
       "         'TCA': 2,\n",
       "         'GAC': 2,\n",
       "         'ACT': 1,\n",
       "         'GAG': 4,\n",
       "         'TCT': 7,\n",
       "         'ACG': 2,\n",
       "         'AAA': 7,\n",
       "         'CAT': 5,\n",
       "         'GAT': 5,\n",
       "         'TCC': 3,\n",
       "         'CAC': 1,\n",
       "         'TAG': 4,\n",
       "         'AAT': 3,\n",
       "         'TAA': 4,\n",
       "         'CCA': 4,\n",
       "         'GAA': 1,\n",
       "         'AAG': 1,\n",
       "         'ACC': 1})"
      ]
     },
     "execution_count": 15,
     "metadata": {},
     "output_type": "execute_result"
    }
   ],
   "source": [
    "ancestor.targets(bed)"
   ]
  },
  {
   "cell_type": "markdown",
   "metadata": {},
   "source": [
    "We can also call it without the BED file mask to compute the unmasked target sizes of the ancestral FASTA"
   ]
  },
  {
   "cell_type": "code",
   "execution_count": 16,
   "metadata": {
    "execution": {
     "iopub.execute_input": "2022-11-12T00:20:02.303679Z",
     "iopub.status.busy": "2022-11-12T00:20:02.303390Z",
     "iopub.status.idle": "2022-11-12T00:20:04.282233Z",
     "shell.execute_reply": "2022-11-12T00:20:04.281392Z"
    }
   },
   "outputs": [
    {
     "data": {
      "text/plain": [
       "Counter({'AAA': 6197,\n",
       "         'CAA': 3408,\n",
       "         'ACA': 3920,\n",
       "         'CAC': 3260,\n",
       "         'CCA': 3764,\n",
       "         'CCC': 3234,\n",
       "         'TCC': 3317,\n",
       "         'ACT': 2998,\n",
       "         'TAG': 2210,\n",
       "         'TAT': 3279,\n",
       "         'AAT': 4240,\n",
       "         'GAA': 3861,\n",
       "         'CCT': 3811,\n",
       "         'GAG': 3601,\n",
       "         'CAT': 3456,\n",
       "         'GAT': 2370,\n",
       "         'TCT': 4319,\n",
       "         'CAG': 4423,\n",
       "         'GCA': 3182,\n",
       "         'AAC': 2688,\n",
       "         'GCT': 2972,\n",
       "         'GCC': 2694,\n",
       "         'TCA': 3730,\n",
       "         'GAC': 1998,\n",
       "         'AAG': 3860,\n",
       "         'ACC': 2378,\n",
       "         'CCG': 717,\n",
       "         'TCG': 450,\n",
       "         'ACG': 554,\n",
       "         'TAA': 3527,\n",
       "         'GCG': 592,\n",
       "         'TAC': 1927})"
      ]
     },
     "execution_count": 16,
     "metadata": {},
     "output_type": "execute_result"
    }
   ],
   "source": [
    "ancestor.targets()"
   ]
  },
  {
   "cell_type": "markdown",
   "metadata": {
    "slideshow": {
     "slide_type": "slide"
    }
   },
   "source": [
    "## Command line interface demo\n",
    "\n",
    "Note that command line cells begin with `!` in Jupyter notebooks.\n",
    "\n",
    "Display usage information for the mutyper command"
   ]
  },
  {
   "cell_type": "code",
   "execution_count": 17,
   "metadata": {
    "execution": {
     "iopub.execute_input": "2022-11-12T00:20:04.286228Z",
     "iopub.status.busy": "2022-11-12T00:20:04.285934Z",
     "iopub.status.idle": "2022-11-12T00:20:04.989012Z",
     "shell.execute_reply": "2022-11-12T00:20:04.987766Z"
    }
   },
   "outputs": [
    {
     "name": "stdout",
     "output_type": "stream",
     "text": [
      "usage: mutyper [-h] {ancestor,variants,targets,spectra,ksfs} ...\r\n",
      "\r\n",
      "mutyper: ancestral kmer mutation types for variant data\r\n",
      "\r\n",
      "optional arguments:\r\n",
      "  -h, --help            show this help message and exit\r\n",
      "\r\n",
      "subcommands:\r\n",
      "  specify one of these\r\n",
      "\r\n",
      "  {ancestor,variants,targets,spectra,ksfs}\r\n",
      "                        additional help available for each subcommand\r\n"
     ]
    }
   ],
   "source": [
    "!mutyper -h"
   ]
  },
  {
   "cell_type": "markdown",
   "metadata": {
    "slideshow": {
     "slide_type": "slide"
    }
   },
   "source": [
    "### `variants` subcommand\n",
    "\n",
    "Usage:"
   ]
  },
  {
   "cell_type": "code",
   "execution_count": 18,
   "metadata": {
    "execution": {
     "iopub.execute_input": "2022-11-12T00:20:04.993968Z",
     "iopub.status.busy": "2022-11-12T00:20:04.993686Z",
     "iopub.status.idle": "2022-11-12T00:20:05.700352Z",
     "shell.execute_reply": "2022-11-12T00:20:05.699293Z"
    }
   },
   "outputs": [
    {
     "name": "stdout",
     "output_type": "stream",
     "text": [
      "usage: mutyper variants [-h] [--verbose] [--k K] [--target TARGET] [--sep SEP]\r\n",
      "                        [--chrom_pos CHROM_POS] [--strand_file STRAND_FILE]\r\n",
      "                        [--strict]\r\n",
      "                        fasta vcf\r\n",
      "\r\n",
      "adds mutation_type to VCF/BCF INFO, polarizes REF/ALT/AC according to\r\n",
      "ancestral/derived states, and stream to stdout\r\n",
      "\r\n",
      "positional arguments:\r\n",
      "  fasta                 path to ancestral FASTA\r\n",
      "  vcf                   VCF/BCF file, usually for a single chromosome (\"-\" for\r\n",
      "                        stdin)\r\n",
      "\r\n",
      "optional arguments:\r\n",
      "  -h, --help            show this help message and exit\r\n",
      "  --verbose             increase logging verbosity\r\n",
      "  --k K                 k-mer context size (default 3)\r\n",
      "  --target TARGET       0-based mutation target position in kmer (default\r\n",
      "                        middle)\r\n",
      "  --sep SEP             field delimiter in FASTA headers (default \":\")\r\n",
      "  --chrom_pos CHROM_POS\r\n",
      "                        0-based chromosome field position in FASTA headers\r\n",
      "                        (default 0)\r\n",
      "  --strand_file STRAND_FILE\r\n",
      "                        path to bed file with regions where reverse strand\r\n",
      "                        defines mutation context, e.g. direction of\r\n",
      "                        replication or transcription (default collapse reverse\r\n",
      "                        complements)\r\n",
      "  --strict              only uppercase nucleotides in FASTA considered\r\n",
      "                        ancestrally identified\r\n"
     ]
    }
   ],
   "source": [
    "!mutyper variants -h"
   ]
  },
  {
   "cell_type": "markdown",
   "metadata": {},
   "source": [
    "Path to a truncated VCF file for chromosome 1 from the 1000 Genomes Project."
   ]
  },
  {
   "cell_type": "code",
   "execution_count": 19,
   "metadata": {
    "execution": {
     "iopub.execute_input": "2022-11-12T00:20:05.705079Z",
     "iopub.status.busy": "2022-11-12T00:20:05.704302Z",
     "iopub.status.idle": "2022-11-12T00:20:05.708994Z",
     "shell.execute_reply": "2022-11-12T00:20:05.708359Z"
    }
   },
   "outputs": [],
   "source": [
    "vcf = '../example_data/snps.vcf'"
   ]
  },
  {
   "cell_type": "markdown",
   "metadata": {},
   "source": [
    "We'll use [bcftools](http://samtools.github.io/bcftools/bcftools.html#view) to display the first few variants, omitting header and genotype information."
   ]
  },
  {
   "cell_type": "code",
   "execution_count": 20,
   "metadata": {
    "execution": {
     "iopub.execute_input": "2022-11-12T00:20:05.712410Z",
     "iopub.status.busy": "2022-11-12T00:20:05.711930Z",
     "iopub.status.idle": "2022-11-12T00:20:05.881532Z",
     "shell.execute_reply": "2022-11-12T00:20:05.880103Z"
    }
   },
   "outputs": [
    {
     "name": "stdout",
     "output_type": "stream",
     "text": [
      "1\t10177\t.\tA\tAC\t100\tPASS\tAC=2130;AF=0.425319;AN=5008;NS=2504;DP=103152;EAS_AF=0.3363;AMR_AF=0.3602;AFR_AF=0.4909;EUR_AF=0.4056;SAS_AF=0.4949;AA=|||unknown(NO_COVERAGE)\r\n",
      "1\t10235\t.\tT\tTA\t100\tPASS\tAC=6;AF=0.00119808;AN=5008;NS=2504;DP=78015;EAS_AF=0;AMR_AF=0.0014;AFR_AF=0;EUR_AF=0;SAS_AF=0.0051;AA=|||unknown(NO_COVERAGE)\r\n",
      "1\t10352\trs145072688\tT\tTA\t100\tPASS\tAC=2191;AF=0.4375;AN=5008;NS=2504;DP=88915;EAS_AF=0.4306;AMR_AF=0.4107;AFR_AF=0.4788;EUR_AF=0.4264;SAS_AF=0.4192;AA=|||unknown(NO_COVERAGE)\r\n",
      "1\t10505\t.\tA\tT\t100\tPASS\tAC=1;AF=0.000199681;AN=5008;NS=2504;DP=9632;EAS_AF=0;AMR_AF=0;AFR_AF=0.0008;EUR_AF=0;SAS_AF=0;AA=.|||\r\n",
      "1\t10506\t.\tC\tG\t100\tPASS\tAC=1;AF=0.000199681;AN=5008;NS=2504;DP=9676;EAS_AF=0;AMR_AF=0;AFR_AF=0.0008;EUR_AF=0;SAS_AF=0;AA=.|||\r\n",
      "[main_vcfview] Error: cannot write to (null)\r\n"
     ]
    }
   ],
   "source": [
    "!bcftools view -HG {vcf} | head -5"
   ]
  },
  {
   "cell_type": "markdown",
   "metadata": {},
   "source": [
    "Now we use the `variants` subcommand, and pipe to `bcftools` for display. Notice there is an additional INFO field `mutation_type`, and only biallelic SNPs are output. Also note that REF/ALT state and INFO/AC fields are polarized according to ancestral/derived allele."
   ]
  },
  {
   "cell_type": "code",
   "execution_count": 21,
   "metadata": {
    "execution": {
     "iopub.execute_input": "2022-11-12T00:20:05.886639Z",
     "iopub.status.busy": "2022-11-12T00:20:05.885933Z",
     "iopub.status.idle": "2022-11-12T00:20:06.705804Z",
     "shell.execute_reply": "2022-11-12T00:20:06.704472Z"
    }
   },
   "outputs": [
    {
     "name": "stdout",
     "output_type": "stream",
     "text": [
      "1\t10505\t.\tA\tT\t100\tPASS\tAC=5007;AF=0.9998;AN=5008;NS=2504;DP=9632;EAS_AF=0;AMR_AF=0;AFR_AF=0.0008;EUR_AF=0;SAS_AF=0;AA=.|||;mutation_type=GAG>GTG\r\n",
      "1\t10506\t.\tC\tG\t100\tPASS\tAC=1;AF=0.000199681;AN=5008;NS=2504;DP=9676;EAS_AF=0;AMR_AF=0;AFR_AF=0.0008;EUR_AF=0;SAS_AF=0;AA=.|||;mutation_type=TCT>TGT\r\n",
      "1\t10542\t.\tA\tG\t100\tPASS\tAC=5007;AF=0.9998;AN=5008;NS=2504;DP=9007;EAS_AF=0.001;AMR_AF=0;AFR_AF=0;EUR_AF=0;SAS_AF=0;AA=.|||;mutation_type=CAG>CGG\r\n",
      "1\t10642\t.\tA\tG\t100\tPASS\tAC=4987;AF=0.995807;AN=5008;NS=2504;DP=1360;EAS_AF=0.003;AMR_AF=0.0014;AFR_AF=0.0129;EUR_AF=0;SAS_AF=0;AA=.|||;mutation_type=CAT>CGT\r\n",
      "1\t11008\t.\tC\tG\t100\tPASS\tAC=441;AF=0.0880591;AN=5008;NS=2504;DP=2232;EAS_AF=0.0367;AMR_AF=0.0965;AFR_AF=0.1346;EUR_AF=0.0885;SAS_AF=0.0716;AA=.|||;mutation_type=CCT>CGT\r\n"
     ]
    },
    {
     "name": "stdout",
     "output_type": "stream",
     "text": [
      "[main_vcfview] Error: cannot write to (null)\r\n",
      "Traceback (most recent call last):\r\n",
      "  File \"/usr/share/miniconda/envs/mutyper/bin/mutyper\", line 8, in <module>\r\n",
      "    sys.exit(main())\r\n",
      "  File \"/usr/share/miniconda/envs/mutyper/lib/python3.9/site-packages/mutyper/cli.py\", line 474, in main\r\n",
      "    args.func(args)\r\n",
      "  File \"/usr/share/miniconda/envs/mutyper/lib/python3.9/site-packages/mutyper/cli.py\", line 213, in variants\r\n",
      "    print(str(variant), end=\"\")\r\n",
      "BrokenPipeError: [Errno 32] Broken pipe\r\n"
     ]
    }
   ],
   "source": [
    "!mutyper variants {fasta} {vcf} | bcftools view -HG | head -5"
   ]
  },
  {
   "cell_type": "markdown",
   "metadata": {
    "slideshow": {
     "slide_type": "slide"
    }
   },
   "source": [
    "### `targets` subcommand\n",
    "\n",
    "Usage:"
   ]
  },
  {
   "cell_type": "code",
   "execution_count": 22,
   "metadata": {
    "execution": {
     "iopub.execute_input": "2022-11-12T00:20:06.711990Z",
     "iopub.status.busy": "2022-11-12T00:20:06.711533Z",
     "iopub.status.idle": "2022-11-12T00:20:07.427936Z",
     "shell.execute_reply": "2022-11-12T00:20:07.426401Z"
    }
   },
   "outputs": [
    {
     "name": "stdout",
     "output_type": "stream",
     "text": [
      "usage: mutyper targets [-h] [--verbose] [--k K] [--target TARGET] [--sep SEP]\r\n",
      "                       [--chrom_pos CHROM_POS] [--strand_file STRAND_FILE]\r\n",
      "                       [--strict] [--bed BED]\r\n",
      "                       fasta\r\n",
      "\r\n",
      "compute 𝑘-mer target sizes and stream to stdout\r\n",
      "\r\n",
      "positional arguments:\r\n",
      "  fasta                 path to ancestral FASTA\r\n",
      "\r\n",
      "optional arguments:\r\n",
      "  -h, --help            show this help message and exit\r\n",
      "  --verbose             increase logging verbosity\r\n",
      "  --k K                 k-mer context size (default 3)\r\n",
      "  --target TARGET       0-based mutation target position in kmer (default\r\n",
      "                        middle)\r\n",
      "  --sep SEP             field delimiter in FASTA headers (default \":\")\r\n",
      "  --chrom_pos CHROM_POS\r\n",
      "                        0-based chromosome field position in FASTA headers\r\n",
      "                        (default 0)\r\n",
      "  --strand_file STRAND_FILE\r\n",
      "                        path to bed file with regions where reverse strand\r\n",
      "                        defines mutation context, e.g. direction of\r\n",
      "                        replication or transcription (default collapse reverse\r\n",
      "                        complements)\r\n",
      "  --strict              only uppercase nucleotides in FASTA considered\r\n",
      "                        ancestrally identified\r\n",
      "  --bed BED             path to BED file mask (\"-\" for stdin)\r\n"
     ]
    }
   ],
   "source": [
    "!mutyper targets -h"
   ]
  },
  {
   "cell_type": "code",
   "execution_count": 23,
   "metadata": {
    "execution": {
     "iopub.execute_input": "2022-11-12T00:20:07.433721Z",
     "iopub.status.busy": "2022-11-12T00:20:07.433314Z",
     "iopub.status.idle": "2022-11-12T00:20:09.771652Z",
     "shell.execute_reply": "2022-11-12T00:20:09.770221Z"
    }
   },
   "outputs": [
    {
     "name": "stdout",
     "output_type": "stream",
     "text": [
      "AAA\t6331\r\n",
      "AAC\t2775\r\n",
      "AAG\t3947\r\n",
      "AAT\t4335\r\n",
      "ACA\t4066\r\n",
      "ACC\t2440\r\n",
      "ACG\t632\r\n",
      "ACT\t3082\r\n",
      "CAA\t3506\r\n",
      "CAC\t3391\r\n"
     ]
    }
   ],
   "source": [
    "!mutyper targets {fasta} | head"
   ]
  },
  {
   "cell_type": "markdown",
   "metadata": {},
   "source": [
    "The optional argument `--bed` resticts target size computation based on a BED mask file, and is useful of normalizing mutation spectra according to genomic region, or calibrating mutaiton rates."
   ]
  },
  {
   "cell_type": "code",
   "execution_count": 24,
   "metadata": {
    "execution": {
     "iopub.execute_input": "2022-11-12T00:20:09.776671Z",
     "iopub.status.busy": "2022-11-12T00:20:09.776315Z",
     "iopub.status.idle": "2022-11-12T00:20:10.486733Z",
     "shell.execute_reply": "2022-11-12T00:20:10.485234Z"
    }
   },
   "outputs": [
    {
     "name": "stdout",
     "output_type": "stream",
     "text": [
      "AAA\t7\r\n",
      "AAC\t3\r\n",
      "AAG\t1\r\n",
      "AAT\t3\r\n",
      "ACA\t2\r\n",
      "ACC\t1\r\n",
      "ACG\t2\r\n",
      "ACT\t1\r\n",
      "CAA\t2\r\n",
      "CAC\t1\r\n"
     ]
    }
   ],
   "source": [
    "!mutyper targets {fasta} --bed {bed} | head"
   ]
  },
  {
   "cell_type": "markdown",
   "metadata": {
    "slideshow": {
     "slide_type": "slide"
    }
   },
   "source": [
    "### `spectra` subcommand\n",
    "\n",
    "Usage:"
   ]
  },
  {
   "cell_type": "code",
   "execution_count": 25,
   "metadata": {
    "execution": {
     "iopub.execute_input": "2022-11-12T00:20:10.494073Z",
     "iopub.status.busy": "2022-11-12T00:20:10.492532Z",
     "iopub.status.idle": "2022-11-12T00:20:11.196638Z",
     "shell.execute_reply": "2022-11-12T00:20:11.194964Z"
    }
   },
   "outputs": [
    {
     "name": "stdout",
     "output_type": "stream",
     "text": [
      "usage: mutyper spectra [-h] [--verbose] [--population] [--randomize] vcf\r\n",
      "\r\n",
      "compute mutation spectra for each sample in VCF/BCF with mutation_type data\r\n",
      "and stream to stdout\r\n",
      "\r\n",
      "positional arguments:\r\n",
      "  vcf           VCF/BCF file, usually for a single chromosome (\"-\" for stdin)\r\n",
      "\r\n",
      "optional arguments:\r\n",
      "  -h, --help    show this help message and exit\r\n",
      "  --verbose     increase logging verbosity\r\n",
      "  --population  population-wise spectrum, instead of individual\r\n",
      "  --randomize   randomly assign mutation to a single haplotype\r\n"
     ]
    }
   ],
   "source": [
    "!mutyper spectra -h"
   ]
  },
  {
   "cell_type": "markdown",
   "metadata": {},
   "source": [
    "We first add mutation type information with the `variants` subcommand, then pipe into the `spectra` subcommand to generate mutation spectra for all samples, and finally crop the output with `head` and `cut` for display."
   ]
  },
  {
   "cell_type": "code",
   "execution_count": 26,
   "metadata": {
    "execution": {
     "iopub.execute_input": "2022-11-12T00:20:11.203149Z",
     "iopub.status.busy": "2022-11-12T00:20:11.202460Z",
     "iopub.status.idle": "2022-11-12T00:20:12.402280Z",
     "shell.execute_reply": "2022-11-12T00:20:12.400799Z"
    }
   },
   "outputs": [
    {
     "name": "stdout",
     "output_type": "stream",
     "text": [
      "sample\tAAA>AGA\tAAT>AGT\tACA>AAA\tACA>AGA\r\n",
      "HG00096\t2\t2\t2\t2\r\n",
      "HG00097\t2\t2\t2\t2\r\n",
      "HG00099\t2\t2\t2\t2\r\n",
      "HG00100\t2\t2\t2\t2\r\n",
      "HG00101\t2\t2\t2\t2\r\n",
      "HG00102\t2\t2\t2\t2\r\n",
      "HG00103\t2\t2\t2\t2\r\n",
      "HG00105\t2\t2\t2\t2\r\n",
      "HG00106\t2\t2\t2\t2\r\n"
     ]
    }
   ],
   "source": [
    "!mutyper variants {fasta} {vcf} | mutyper spectra - | head | cut -f-5"
   ]
  },
  {
   "cell_type": "markdown",
   "metadata": {},
   "source": [
    "Use the `--population` to get the spectrum for whole population, rather than each individual"
   ]
  },
  {
   "cell_type": "code",
   "execution_count": 27,
   "metadata": {
    "execution": {
     "iopub.execute_input": "2022-11-12T00:20:12.407970Z",
     "iopub.status.busy": "2022-11-12T00:20:12.407066Z",
     "iopub.status.idle": "2022-11-12T00:20:13.570152Z",
     "shell.execute_reply": "2022-11-12T00:20:13.568560Z"
    }
   },
   "outputs": [
    {
     "name": "stdout",
     "output_type": "stream",
     "text": [
      "AAA>AGA\tAAT>AGT\tACA>AAA\tACA>AGA\tACA>ATA\r\n",
      "2\t1\t1\t2\t3\r\n",
      "\r\n"
     ]
    }
   ],
   "source": [
    "!mutyper variants {fasta} {vcf} | mutyper spectra - --population | head | cut -f-5"
   ]
  },
  {
   "cell_type": "markdown",
   "metadata": {
    "slideshow": {
     "slide_type": "slide"
    }
   },
   "source": [
    "### `ksfs` subcommand\n",
    "\n",
    "Usage:"
   ]
  },
  {
   "cell_type": "code",
   "execution_count": 28,
   "metadata": {
    "execution": {
     "iopub.execute_input": "2022-11-12T00:20:13.575891Z",
     "iopub.status.busy": "2022-11-12T00:20:13.575187Z",
     "iopub.status.idle": "2022-11-12T00:20:14.280287Z",
     "shell.execute_reply": "2022-11-12T00:20:14.278668Z"
    }
   },
   "outputs": [
    {
     "name": "stdout",
     "output_type": "stream",
     "text": [
      "usage: mutyper ksfs [-h] [--verbose] vcf\r\n",
      "\r\n",
      "compute sample frequency spectrum for each mutation type from a VCF/BCF file\r\n",
      "with mutation_type data (i.e. output from variants subcommand ) and stream to\r\n",
      "stdout\r\n",
      "\r\n",
      "positional arguments:\r\n",
      "  vcf         VCF/BCF file, usually for a single chromosome (\"-\" for stdin)\r\n",
      "\r\n",
      "optional arguments:\r\n",
      "  -h, --help  show this help message and exit\r\n",
      "  --verbose   increase logging verbosity\r\n"
     ]
    }
   ],
   "source": [
    "!mutyper ksfs -h"
   ]
  },
  {
   "cell_type": "markdown",
   "metadata": {},
   "source": [
    "Similar to the previous subcommand, but now we are generating a sample frequency spectrum (SFS) for each mutation type."
   ]
  },
  {
   "cell_type": "code",
   "execution_count": 29,
   "metadata": {
    "execution": {
     "iopub.execute_input": "2022-11-12T00:20:14.286519Z",
     "iopub.status.busy": "2022-11-12T00:20:14.285686Z",
     "iopub.status.idle": "2022-11-12T00:20:15.576993Z",
     "shell.execute_reply": "2022-11-12T00:20:15.575962Z"
    }
   },
   "outputs": [
    {
     "name": "stdout",
     "output_type": "stream",
     "text": [
      "sample_frequency\tAAA>AGA\tAAT>AGT\tACA>AAA\tACA>AGA\r\n",
      "1\t0\t0\t0\t0\r\n",
      "2\t0\t0\t0\t0\r\n",
      "3\t0\t0\t0\t0\r\n",
      "4\t0\t0\t0\t0\r\n",
      "5\t0\t0\t0\t0\r\n",
      "6\t0\t0\t0\t0\r\n",
      "7\t0\t0\t0\t0\r\n",
      "8\t0\t0\t0\t0\r\n",
      "9\t0\t0\t0\t0\r\n"
     ]
    }
   ],
   "source": [
    "!mutyper variants {fasta} {vcf} | mutyper ksfs - | head | cut -f-5"
   ]
  }
 ],
 "metadata": {
  "celltoolbar": "Slideshow",
  "kernelspec": {
   "display_name": "Python 3",
   "language": "python",
   "name": "python3"
  },
  "language_info": {
   "codemirror_mode": {
    "name": "ipython",
    "version": 3
   },
   "file_extension": ".py",
   "mimetype": "text/x-python",
   "name": "python",
   "nbconvert_exporter": "python",
   "pygments_lexer": "ipython3",
   "version": "3.9.13"
  }
 },
 "nbformat": 4,
 "nbformat_minor": 4
}
