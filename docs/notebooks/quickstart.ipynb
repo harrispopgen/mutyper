{
 "cells": [
  {
   "cell_type": "markdown",
   "metadata": {
    "slideshow": {
     "slide_type": "slide"
    }
   },
   "source": [
    "Quickstart\n",
    "==\n",
    "\n",
    "This notebook demonstrates how to use `mutyper` for computing mutation type data for VCF/BCF data"
   ]
  },
  {
   "cell_type": "markdown",
   "metadata": {},
   "source": [
    "## Python API demo"
   ]
  },
  {
   "cell_type": "code",
   "execution_count": 1,
   "metadata": {},
   "outputs": [],
   "source": [
    "import mutyper"
   ]
  },
  {
   "cell_type": "markdown",
   "metadata": {},
   "source": [
    "Path to an ancestral FASTA file for human chromosome 1"
   ]
  },
  {
   "cell_type": "code",
   "execution_count": 2,
   "metadata": {
    "slideshow": {
     "slide_type": "-"
    }
   },
   "outputs": [],
   "source": [
    "fasta = '../example_data/ancestor.fa'"
   ]
  },
  {
   "cell_type": "markdown",
   "metadata": {},
   "source": [
    "Show the first 3 lines with a bash cell"
   ]
  },
  {
   "cell_type": "code",
   "execution_count": 3,
   "metadata": {},
   "outputs": [
    {
     "name": "stdout",
     "output_type": "stream",
     "text": [
      ">ANCESTOR_for_chromosome:GRCh37:1:1:249250621:1\r\n",
      "TTTGTGGGAgACTATTCCTCCCATCTGCAACAGCTGCCCCTGCTGACTGCCCTTCTCTCCTCCCTCTCATCCCAGAGAAACAgGTCAGCTGGGAGCTTCT\r\n",
      "GCCCCCACTGCCTAGGGACCAACAGGGGCAGGAGGCAGTCACTGACCCCGAGACGTTTGCATCCTGCACAGCTAGAGATCCTTTATTAAAAGCACACTGT\r\n"
     ]
    }
   ],
   "source": [
    "!head -3 {fasta}"
   ]
  },
  {
   "cell_type": "markdown",
   "metadata": {
    "slideshow": {
     "slide_type": "slide"
    }
   },
   "source": [
    "The `mutyper` package has a single class `Ancestor`. We instantiate an `Ancestor` object using our FASTA file\n",
    "- We're interested in 3-mer context, which we can indicate with the `k` keyword argument (by default it will be 3 though).\n",
    "- The chromosome name is the 3rd field delimited by `:` in the FASTA record id. We use the `key_function` keyword argument to deal with this."
   ]
  },
  {
   "cell_type": "code",
   "execution_count": 4,
   "metadata": {
    "slideshow": {
     "slide_type": "-"
    }
   },
   "outputs": [],
   "source": [
    "ancestor = mutyper.Ancestor(fasta, k=3, key_function=lambda x: x.split(':')[2])"
   ]
  },
  {
   "cell_type": "markdown",
   "metadata": {
    "slideshow": {
     "slide_type": "slide"
    }
   },
   "source": [
    "We can inspect FASTA record names, showing that the FASTA contains two records, chromosome `'1'` and `'2'`."
   ]
  },
  {
   "cell_type": "code",
   "execution_count": 5,
   "metadata": {
    "slideshow": {
     "slide_type": "-"
    }
   },
   "outputs": [
    {
     "data": {
      "text/plain": [
       "odict_keys(['1', '2'])"
      ]
     },
     "execution_count": 5,
     "metadata": {},
     "output_type": "execute_result"
    }
   ],
   "source": [
    "ancestor.keys()"
   ]
  },
  {
   "cell_type": "code",
   "execution_count": 6,
   "metadata": {
    "slideshow": {
     "slide_type": "-"
    }
   },
   "outputs": [
    {
     "data": {
      "text/plain": [
       "FastaRecord(\"1\")"
      ]
     },
     "execution_count": 6,
     "metadata": {},
     "output_type": "execute_result"
    }
   ],
   "source": [
    "ancestor['1']"
   ]
  },
  {
   "cell_type": "markdown",
   "metadata": {
    "slideshow": {
     "slide_type": "slide"
    }
   },
   "source": [
    "and we can Pythonically slice sequences via fast random access without loading into memory (leaning on [`pyfaidx`](https://pythonhosted.org/pyfaidx/) under the hood):"
   ]
  },
  {
   "cell_type": "code",
   "execution_count": 7,
   "metadata": {
    "slideshow": {
     "slide_type": "-"
    }
   },
   "outputs": [
    {
     "data": {
      "text/plain": [
       ">1:101-300\n",
       "GCCCCCACTGCCTAGGGACCAACAGGGGCAGGAGGCAGTCACTGACCCCGAGACGTTTGCATCCTGCACAGCTAGAGATCCTTTATTAAAAGCACACTGTTGGTTTCTGCTCAGTTCTTTATTGATTGGTGTGCCGTTTTCTCTGGAAGCCTCTTAAGAACACAGTGGCGCAGGCTGGGTGGAGCCGTCCCCCCATGgAG"
      ]
     },
     "execution_count": 7,
     "metadata": {},
     "output_type": "execute_result"
    }
   ],
   "source": [
    "start = 100\n",
    "end = 300\n",
    "ancestor['1'][start:end]"
   ]
  },
  {
   "cell_type": "markdown",
   "metadata": {
    "slideshow": {
     "slide_type": "fragment"
    }
   },
   "source": [
    "We can also access these `FastaRecord` slices as string-like biopython `Seq` objects"
   ]
  },
  {
   "cell_type": "code",
   "execution_count": 8,
   "metadata": {
    "slideshow": {
     "slide_type": "-"
    }
   },
   "outputs": [
    {
     "data": {
      "text/plain": [
       "'GCCCCCACTGCCTAGGGACCAACAGGGGCAGGAGGCAGTCACTGACCCCGAGACGTTTGCATCCTGCACAGCTAGAGATCCTTTATTAAAAGCACACTGTTGGTTTCTGCTCAGTTCTTTATTGATTGGTGTGCCGTTTTCTCTGGAAGCCTCTTAAGAACACAGTGGCGCAGGCTGGGTGGAGCCGTCCCCCCATGgAG'"
      ]
     },
     "execution_count": 8,
     "metadata": {},
     "output_type": "execute_result"
    }
   ],
   "source": [
    "ancestor['1'][start:end].seq"
   ]
  },
  {
   "cell_type": "markdown",
   "metadata": {
    "slideshow": {
     "slide_type": "slide"
    }
   },
   "source": [
    "**The `mutation_type` method** allows us to specify a SNP by the usual CHROM, POS, REF, ALT, and returns the correctly polarized mutation type as a tuple of ancestral kmer and derived kmer.\n",
    "\n",
    "First, consider the triplet context at site 100 on chromosome 1:"
   ]
  },
  {
   "cell_type": "code",
   "execution_count": 9,
   "metadata": {},
   "outputs": [
    {
     "data": {
      "text/plain": [
       ">1:99-101\n",
       "CTG"
      ]
     },
     "execution_count": 9,
     "metadata": {},
     "output_type": "execute_result"
    }
   ],
   "source": [
    "ancestor['1'][98:101]"
   ]
  },
  {
   "cell_type": "markdown",
   "metadata": {},
   "source": [
    "Suppose a biallelic SNP at this site segregates in a population with reference allele T and alternative allele A. The mutation type of this SNP is"
   ]
  },
  {
   "cell_type": "code",
   "execution_count": 10,
   "metadata": {
    "slideshow": {
     "slide_type": "-"
    }
   },
   "outputs": [
    {
     "data": {
      "text/plain": [
       "('CAG', 'CTG')"
      ]
     },
     "execution_count": 10,
     "metadata": {},
     "output_type": "execute_result"
    }
   ],
   "source": [
    "ancestor.mutation_type('1', 99, 'T', 'A')"
   ]
  },
  {
   "cell_type": "markdown",
   "metadata": {},
   "source": [
    "Note that, by default, mutation types are collapsed by reverse complementation such that the ancestral state at the target site is A or C. So in the above, the ancestral state T caused the ancestral triplet CTG to be reversed and complemented to CAG.\n",
    "\n",
    "If the reference and alternative states are both distinct from the ancestral state, the site is not biallelic (an infinite sites violation), and the mutation type is returned as ambiguous."
   ]
  },
  {
   "cell_type": "code",
   "execution_count": 11,
   "metadata": {},
   "outputs": [
    {
     "data": {
      "text/plain": [
       "(None, None)"
      ]
     },
     "execution_count": 11,
     "metadata": {},
     "output_type": "execute_result"
    }
   ],
   "source": [
    "ancestor.mutation_type('1', 99, 'C', 'A')"
   ]
  },
  {
   "cell_type": "markdown",
   "metadata": {
    "slideshow": {
     "slide_type": "slide"
    }
   },
   "source": [
    "**The `region_contexts` method** returns a generator of ancestral contexts (by default collapsed as described above) over the positions in a region specified as in BED file format CHROM, START, END"
   ]
  },
  {
   "cell_type": "code",
   "execution_count": 12,
   "metadata": {
    "scrolled": false,
    "slideshow": {
     "slide_type": "-"
    }
   },
   "outputs": [
    {
     "name": "stdout",
     "output_type": "stream",
     "text": [
      "CCC CCT AAG GAA TCT GAG TCT GAG TCC CCT GAG TCC CCC CCT GAG TCT GAG TCA CAT GAT TCC CCC CCA CAG TCT GAG TCT GAA AAA AAC ACA None None None GAC TCA CAG GCT GCT CAG CCA CCC TCC GAG GCT GCT AAG GAA TCT CAG "
     ]
    }
   ],
   "source": [
    "start = 50\n",
    "end = 100\n",
    "for context in ancestor.region_contexts('1', start, end):\n",
    "    print(context, end=' ')"
   ]
  },
  {
   "cell_type": "markdown",
   "metadata": {
    "slideshow": {
     "slide_type": "fragment"
    }
   },
   "source": [
    "Note that FASTA sites that are not nucleotide characters have non-identified ancestral state, so context is `None`. "
   ]
  },
  {
   "cell_type": "markdown",
   "metadata": {
    "slideshow": {
     "slide_type": "slide"
    }
   },
   "source": [
    "This generator method is used by the **the `targets` method** to compute the masked genomic target size for each $k$-mer context from a BED mask file. This may be useful for normalizing spectra in different genomic regions, or calibrating mutation rates."
   ]
  },
  {
   "cell_type": "code",
   "execution_count": 13,
   "metadata": {
    "slideshow": {
     "slide_type": "-"
    }
   },
   "outputs": [],
   "source": [
    "bed = '../example_data/mask.bed'"
   ]
  },
  {
   "cell_type": "code",
   "execution_count": 14,
   "metadata": {},
   "outputs": [
    {
     "name": "stdout",
     "output_type": "stream",
     "text": [
      "1\t25\t50\r\n",
      "1\t150\t175\r\n",
      "2\t50\t100\r\n"
     ]
    }
   ],
   "source": [
    "!cat {bed}"
   ]
  },
  {
   "cell_type": "markdown",
   "metadata": {
    "slideshow": {
     "slide_type": "slide"
    }
   },
   "source": [
    "Under the hood it loops over BED file entries and updates a `Counter` object for the different triplets"
   ]
  },
  {
   "cell_type": "code",
   "execution_count": 15,
   "metadata": {},
   "outputs": [
    {
     "data": {
      "text/plain": [
       "Counter({'CAG': 10,\n",
       "         'GCA': 9,\n",
       "         'CAA': 2,\n",
       "         'AAC': 3,\n",
       "         'ACA': 2,\n",
       "         'GCT': 7,\n",
       "         'GCC': 4,\n",
       "         'CCC': 3,\n",
       "         'CCT': 3,\n",
       "         'TCA': 2,\n",
       "         'GAC': 2,\n",
       "         'ACT': 1,\n",
       "         'GAG': 4,\n",
       "         'TCT': 7,\n",
       "         'ACG': 2,\n",
       "         'AAA': 7,\n",
       "         'CAT': 5,\n",
       "         'GAT': 5,\n",
       "         'TCC': 3,\n",
       "         'CAC': 1,\n",
       "         'TAG': 4,\n",
       "         'AAT': 3,\n",
       "         'TAA': 4,\n",
       "         'CCA': 4,\n",
       "         'GAA': 1,\n",
       "         'AAG': 1,\n",
       "         'ACC': 1})"
      ]
     },
     "execution_count": 15,
     "metadata": {},
     "output_type": "execute_result"
    }
   ],
   "source": [
    "ancestor.targets(bed)"
   ]
  },
  {
   "cell_type": "markdown",
   "metadata": {},
   "source": [
    "We can also call it without the BED file mask to compute the unmasked target sizes of the ancestral FASTA"
   ]
  },
  {
   "cell_type": "code",
   "execution_count": 16,
   "metadata": {},
   "outputs": [
    {
     "data": {
      "text/plain": [
       "Counter({'AAA': 6197,\n",
       "         'CAA': 3408,\n",
       "         'ACA': 3920,\n",
       "         'CAC': 3260,\n",
       "         'CCA': 3764,\n",
       "         'CCC': 3234,\n",
       "         'TCC': 3317,\n",
       "         'ACT': 2998,\n",
       "         'TAG': 2210,\n",
       "         'TAT': 3279,\n",
       "         'AAT': 4240,\n",
       "         'GAA': 3861,\n",
       "         'CCT': 3811,\n",
       "         'GAG': 3601,\n",
       "         'CAT': 3456,\n",
       "         'GAT': 2370,\n",
       "         'TCT': 4319,\n",
       "         'CAG': 4423,\n",
       "         'GCA': 3182,\n",
       "         'AAC': 2688,\n",
       "         'GCT': 2972,\n",
       "         'GCC': 2694,\n",
       "         'TCA': 3730,\n",
       "         'GAC': 1998,\n",
       "         'AAG': 3860,\n",
       "         'ACC': 2378,\n",
       "         'CCG': 717,\n",
       "         'TCG': 450,\n",
       "         'ACG': 554,\n",
       "         'TAA': 3527,\n",
       "         'GCG': 592,\n",
       "         'TAC': 1927})"
      ]
     },
     "execution_count": 16,
     "metadata": {},
     "output_type": "execute_result"
    }
   ],
   "source": [
    "ancestor.targets()"
   ]
  },
  {
   "cell_type": "markdown",
   "metadata": {
    "slideshow": {
     "slide_type": "slide"
    }
   },
   "source": [
    "## Command line interface demo\n",
    "\n",
    "Note that command line cells begin with `!` in Jupyter notebooks.\n",
    "\n",
    "Display usage information for the mutyper command"
   ]
  },
  {
   "cell_type": "code",
   "execution_count": 17,
   "metadata": {},
   "outputs": [
    {
     "name": "stdout",
     "output_type": "stream",
     "text": [
      "usage: mutyper [-h] {ancestor,variants,targets,spectra,ksfs} ...\r\n",
      "\r\n",
      "mutyper: ancestral kmer mutation types for variant data\r\n",
      "\r\n",
      "optional arguments:\r\n",
      "  -h, --help            show this help message and exit\r\n",
      "\r\n",
      "subcommands:\r\n",
      "  specify one of these\r\n",
      "\r\n",
      "  {ancestor,variants,targets,spectra,ksfs}\r\n",
      "                        additional help available for each subcommand\r\n"
     ]
    }
   ],
   "source": [
    "!mutyper -h"
   ]
  },
  {
   "cell_type": "markdown",
   "metadata": {
    "slideshow": {
     "slide_type": "slide"
    }
   },
   "source": [
    "### `variants` subcommand\n",
    "\n",
    "Usage:"
   ]
  },
  {
   "cell_type": "code",
   "execution_count": 18,
   "metadata": {},
   "outputs": [
    {
     "name": "stdout",
     "output_type": "stream",
     "text": [
      "usage: mutyper variants [-h] [--k K] [--target TARGET] [--sep SEP]\r\n",
      "                        [--chrom_pos CHROM_POS] [--strand_file STRAND_FILE]\r\n",
      "                        [--strict]\r\n",
      "                        fasta vcf\r\n",
      "\r\n",
      "adds mutation_type to VCF/BCF INFO, polarizes REF/ALT/AC according to\r\n",
      "ancestral/derived states, and stream to stdout\r\n",
      "\r\n",
      "positional arguments:\r\n",
      "  fasta                 path to ancestral FASTA\r\n",
      "  vcf                   VCF/BCF file, usually for a single chromosome (\"-\" for\r\n",
      "                        stdin)\r\n",
      "\r\n",
      "optional arguments:\r\n",
      "  -h, --help            show this help message and exit\r\n",
      "  --k K                 k-mer context size (default 3)\r\n",
      "  --target TARGET       0-based mutation target position in kmer (default\r\n",
      "                        middle)\r\n",
      "  --sep SEP             field delimiter in FASTA headers (default \":\")\r\n",
      "  --chrom_pos CHROM_POS\r\n",
      "                        0-based chromosome field position in FASTA headers\r\n",
      "                        (default 0)\r\n",
      "  --strand_file STRAND_FILE\r\n",
      "                        path to bed file with regions where reverse strand\r\n",
      "                        defines mutation context, e.g. direction of\r\n",
      "                        replication or transcription (default collapse reverse\r\n",
      "                        complements)\r\n",
      "  --strict              only uppercase nucleotides in FASTA considered\r\n",
      "                        ancestrally identified\r\n"
     ]
    }
   ],
   "source": [
    "!mutyper variants -h"
   ]
  },
  {
   "cell_type": "markdown",
   "metadata": {},
   "source": [
    "Path to a truncated VCF file for chromosome 1 from the 1000 Genomes Project."
   ]
  },
  {
   "cell_type": "code",
   "execution_count": 19,
   "metadata": {},
   "outputs": [],
   "source": [
    "vcf = '../example_data/snps.vcf'"
   ]
  },
  {
   "cell_type": "markdown",
   "metadata": {},
   "source": [
    "We'll use [`bcftools view`](http://samtools.github.io/bcftools/bcftools.html#view) to display the first few variants, omitting header and genotype information."
   ]
  },
  {
   "cell_type": "code",
   "execution_count": 20,
   "metadata": {},
   "outputs": [
    {
     "name": "stdout",
     "output_type": "stream",
     "text": [
      "1\t10177\t.\tA\tAC\t100\tPASS\tAC=2130;AF=0.425319;AN=5008;NS=2504;DP=103152;EAS_AF=0.3363;AMR_AF=0.3602;AFR_AF=0.4909;EUR_AF=0.4056;SAS_AF=0.4949;AA=|||unknown(NO_COVERAGE)\r\n",
      "1\t10235\t.\tT\tTA\t100\tPASS\tAC=6;AF=0.00119808;AN=5008;NS=2504;DP=78015;EAS_AF=0;AMR_AF=0.0014;AFR_AF=0;EUR_AF=0;SAS_AF=0.0051;AA=|||unknown(NO_COVERAGE)\r\n",
      "1\t10352\trs145072688\tT\tTA\t100\tPASS\tAC=2191;AF=0.4375;AN=5008;NS=2504;DP=88915;EAS_AF=0.4306;AMR_AF=0.4107;AFR_AF=0.4788;EUR_AF=0.4264;SAS_AF=0.4192;AA=|||unknown(NO_COVERAGE)\r\n",
      "1\t10505\t.\tA\tT\t100\tPASS\tAC=1;AF=0.000199681;AN=5008;NS=2504;DP=9632;EAS_AF=0;AMR_AF=0;AFR_AF=0.0008;EUR_AF=0;SAS_AF=0;AA=.|||\r\n",
      "1\t10506\t.\tC\tG\t100\tPASS\tAC=1;AF=0.000199681;AN=5008;NS=2504;DP=9676;EAS_AF=0;AMR_AF=0;AFR_AF=0.0008;EUR_AF=0;SAS_AF=0;AA=.|||\r\n",
      "[main_vcfview] Error: cannot write to (null)\r\n"
     ]
    }
   ],
   "source": [
    "!bcftools view -HG {vcf} | head -5"
   ]
  },
  {
   "cell_type": "markdown",
   "metadata": {},
   "source": [
    "Now we use the `variants` subcommand, and pipe to `bcftools` for display. Notice there is an additional INFO field `mutation_type`, and only biallelic SNPs are output. Also note that REF/ALT state and INFO/AC fields are polarized according to ancestral/derived allele."
   ]
  },
  {
   "cell_type": "code",
   "execution_count": 21,
   "metadata": {},
   "outputs": [
    {
     "name": "stdout",
     "output_type": "stream",
     "text": [
      "Traceback (most recent call last):\r\n",
      "  File \"/Users/williamdewitt/Applications/miniconda2/envs/mutyperdocs/bin/mutyper\", line 33, in <module>\r\n",
      "    sys.exit(load_entry_point('mutyper', 'console_scripts', 'mutyper')())\r\n",
      "  File \"/Users/williamdewitt/Desktop/repos.nosync/mutyper/mutyper/cli.py\", line 305, in main\r\n",
      "    args.func(args)\r\n",
      "  File \"/Users/williamdewitt/Desktop/repos.nosync/mutyper/mutyper/cli.py\", line 87, in variants\r\n",
      "    ancestor = setup_ancestor(args)\r\n",
      "  File \"/Users/williamdewitt/Desktop/repos.nosync/mutyper/mutyper/cli.py\", line 21, in setup_ancestor\r\n",
      "    return ancestor.Ancestor(args.fasta, k=args.k, target=args.target,\r\n",
      "  File \"/Users/williamdewitt/Desktop/repos.nosync/mutyper/mutyper/ancestor.py\", line 34, in __init__\r\n",
      "    super(Ancestor, self).__init__(fasta, **kwargs)\r\n",
      "  File \"/Users/williamdewitt/Applications/miniconda2/envs/mutyperdocs/lib/python3.8/site-packages/pyfaidx/__init__.py\", line 995, in __init__\r\n",
      "    self.faidx = Faidx(\r\n",
      "  File \"/Users/williamdewitt/Applications/miniconda2/envs/mutyperdocs/lib/python3.8/site-packages/pyfaidx/__init__.py\", line 425, in __init__\r\n",
      "    self.read_fai()\r\n",
      "  File \"/Users/williamdewitt/Applications/miniconda2/envs/mutyperdocs/lib/python3.8/site-packages/pyfaidx/__init__.py\", line 492, in read_fai\r\n",
      "    raise ValueError('Duplicate key \"%s\"' % key)\r\n",
      "ValueError: Duplicate key \"ANCESTOR_for_chromosome\"\r\n"
     ]
    },
    {
     "name": "stdout",
     "output_type": "stream",
     "text": [
      "Failed to read from standard input: unknown file type\r\n"
     ]
    }
   ],
   "source": [
    "!mutyper variants {fasta} {vcf} | bcftools view -HG | head -5"
   ]
  },
  {
   "cell_type": "markdown",
   "metadata": {
    "slideshow": {
     "slide_type": "slide"
    }
   },
   "source": [
    "### `targets` subcommand\n",
    "\n",
    "Usage:"
   ]
  },
  {
   "cell_type": "code",
   "execution_count": 22,
   "metadata": {},
   "outputs": [
    {
     "name": "stdout",
     "output_type": "stream",
     "text": [
      "usage: mutyper targets [-h] [--k K] [--target TARGET] [--sep SEP]\r\n",
      "                       [--chrom_pos CHROM_POS] [--strand_file STRAND_FILE]\r\n",
      "                       [--strict] [--bed BED]\r\n",
      "                       fasta\r\n",
      "\r\n",
      "compute 𝑘-mer target sizes and stream to stdout\r\n",
      "\r\n",
      "positional arguments:\r\n",
      "  fasta                 path to ancestral FASTA\r\n",
      "\r\n",
      "optional arguments:\r\n",
      "  -h, --help            show this help message and exit\r\n",
      "  --k K                 k-mer context size (default 3)\r\n",
      "  --target TARGET       0-based mutation target position in kmer (default\r\n",
      "                        middle)\r\n",
      "  --sep SEP             field delimiter in FASTA headers (default \":\")\r\n",
      "  --chrom_pos CHROM_POS\r\n",
      "                        0-based chromosome field position in FASTA headers\r\n",
      "                        (default 0)\r\n",
      "  --strand_file STRAND_FILE\r\n",
      "                        path to bed file with regions where reverse strand\r\n",
      "                        defines mutation context, e.g. direction of\r\n",
      "                        replication or transcription (default collapse reverse\r\n",
      "                        complements)\r\n",
      "  --strict              only uppercase nucleotides in FASTA considered\r\n",
      "                        ancestrally identified\r\n",
      "  --bed BED             path to BED file mask (\"-\" for stdin)\r\n"
     ]
    }
   ],
   "source": [
    "!mutyper targets -h"
   ]
  },
  {
   "cell_type": "code",
   "execution_count": 23,
   "metadata": {},
   "outputs": [
    {
     "name": "stdout",
     "output_type": "stream",
     "text": [
      "Traceback (most recent call last):\r\n",
      "  File \"/Users/williamdewitt/Applications/miniconda2/envs/mutyperdocs/bin/mutyper\", line 33, in <module>\r\n",
      "    sys.exit(load_entry_point('mutyper', 'console_scripts', 'mutyper')())\r\n",
      "  File \"/Users/williamdewitt/Desktop/repos.nosync/mutyper/mutyper/cli.py\", line 305, in main\r\n",
      "    args.func(args)\r\n",
      "  File \"/Users/williamdewitt/Desktop/repos.nosync/mutyper/mutyper/cli.py\", line 128, in targets\r\n",
      "    ancestor = setup_ancestor(args)\r\n",
      "  File \"/Users/williamdewitt/Desktop/repos.nosync/mutyper/mutyper/cli.py\", line 21, in setup_ancestor\r\n",
      "    return ancestor.Ancestor(args.fasta, k=args.k, target=args.target,\r\n",
      "  File \"/Users/williamdewitt/Desktop/repos.nosync/mutyper/mutyper/ancestor.py\", line 34, in __init__\r\n",
      "    super(Ancestor, self).__init__(fasta, **kwargs)\r\n",
      "  File \"/Users/williamdewitt/Applications/miniconda2/envs/mutyperdocs/lib/python3.8/site-packages/pyfaidx/__init__.py\", line 995, in __init__\r\n",
      "    self.faidx = Faidx(\r\n",
      "  File \"/Users/williamdewitt/Applications/miniconda2/envs/mutyperdocs/lib/python3.8/site-packages/pyfaidx/__init__.py\", line 425, in __init__\r\n",
      "    self.read_fai()\r\n",
      "  File \"/Users/williamdewitt/Applications/miniconda2/envs/mutyperdocs/lib/python3.8/site-packages/pyfaidx/__init__.py\", line 492, in read_fai\r\n",
      "    raise ValueError('Duplicate key \"%s\"' % key)\r\n",
      "ValueError: Duplicate key \"ANCESTOR_for_chromosome\"\r\n"
     ]
    }
   ],
   "source": [
    "!mutyper targets {fasta} | head"
   ]
  },
  {
   "cell_type": "markdown",
   "metadata": {},
   "source": [
    "The optional argument `--bed` resticts target size computation based on a BED mask file, and is useful of normalizing mutation spectra according to genomic region, or calibrating mutaiton rates."
   ]
  },
  {
   "cell_type": "code",
   "execution_count": 24,
   "metadata": {},
   "outputs": [
    {
     "name": "stdout",
     "output_type": "stream",
     "text": [
      "Traceback (most recent call last):\r\n",
      "  File \"/Users/williamdewitt/Applications/miniconda2/envs/mutyperdocs/bin/mutyper\", line 33, in <module>\r\n",
      "    sys.exit(load_entry_point('mutyper', 'console_scripts', 'mutyper')())\r\n",
      "  File \"/Users/williamdewitt/Desktop/repos.nosync/mutyper/mutyper/cli.py\", line 305, in main\r\n",
      "    args.func(args)\r\n",
      "  File \"/Users/williamdewitt/Desktop/repos.nosync/mutyper/mutyper/cli.py\", line 128, in targets\r\n",
      "    ancestor = setup_ancestor(args)\r\n",
      "  File \"/Users/williamdewitt/Desktop/repos.nosync/mutyper/mutyper/cli.py\", line 21, in setup_ancestor\r\n",
      "    return ancestor.Ancestor(args.fasta, k=args.k, target=args.target,\r\n",
      "  File \"/Users/williamdewitt/Desktop/repos.nosync/mutyper/mutyper/ancestor.py\", line 34, in __init__\r\n",
      "    super(Ancestor, self).__init__(fasta, **kwargs)\r\n",
      "  File \"/Users/williamdewitt/Applications/miniconda2/envs/mutyperdocs/lib/python3.8/site-packages/pyfaidx/__init__.py\", line 995, in __init__\r\n",
      "    self.faidx = Faidx(\r\n",
      "  File \"/Users/williamdewitt/Applications/miniconda2/envs/mutyperdocs/lib/python3.8/site-packages/pyfaidx/__init__.py\", line 425, in __init__\r\n",
      "    self.read_fai()\r\n",
      "  File \"/Users/williamdewitt/Applications/miniconda2/envs/mutyperdocs/lib/python3.8/site-packages/pyfaidx/__init__.py\", line 492, in read_fai\r\n",
      "    raise ValueError('Duplicate key \"%s\"' % key)\r\n",
      "ValueError: Duplicate key \"ANCESTOR_for_chromosome\"\r\n"
     ]
    }
   ],
   "source": [
    "!mutyper targets {fasta} --bed {bed} | head"
   ]
  },
  {
   "cell_type": "markdown",
   "metadata": {
    "slideshow": {
     "slide_type": "slide"
    }
   },
   "source": [
    "### `spectra` subcommand\n",
    "\n",
    "Usage:"
   ]
  },
  {
   "cell_type": "code",
   "execution_count": 25,
   "metadata": {},
   "outputs": [
    {
     "name": "stdout",
     "output_type": "stream",
     "text": [
      "usage: mutyper spectra [-h] [--population] vcf\r\n",
      "\r\n",
      "compute mutation spectra for each sample in VCF/BCF with mutation_type data\r\n",
      "and stream to stdout\r\n",
      "\r\n",
      "positional arguments:\r\n",
      "  vcf           VCF/BCF file, usually for a single chromosome (\"-\" for stdin)\r\n",
      "\r\n",
      "optional arguments:\r\n",
      "  -h, --help    show this help message and exit\r\n",
      "  --population  population-wise spectrum, instead of individual\r\n"
     ]
    }
   ],
   "source": [
    "!mutyper spectra -h"
   ]
  },
  {
   "cell_type": "markdown",
   "metadata": {},
   "source": [
    "We first add mutation type information with the `variants` subcommand, then pipe into the `spectra` subcommand to generate mutation spectra for all samples, and finally crop the output with `head` and `cut` for display."
   ]
  },
  {
   "cell_type": "code",
   "execution_count": 26,
   "metadata": {},
   "outputs": [
    {
     "name": "stdout",
     "output_type": "stream",
     "text": [
      "Traceback (most recent call last):\r\n",
      "  File \"/Users/williamdewitt/Applications/miniconda2/envs/mutyperdocs/bin/mutyper\", line 33, in <module>\r\n",
      "    sys.exit(load_entry_point('mutyper', 'console_scripts', 'mutyper')())\r\n",
      "  File \"/Users/williamdewitt/Desktop/repos.nosync/mutyper/mutyper/cli.py\", line 305, in main\r\n",
      "    args.func(args)\r\n",
      "  File \"/Users/williamdewitt/Desktop/repos.nosync/mutyper/mutyper/cli.py\", line 87, in variants\r\n",
      "    ancestor = setup_ancestor(args)\r\n",
      "  File \"/Users/williamdewitt/Desktop/repos.nosync/mutyper/mutyper/cli.py\", line 21, in setup_ancestor\r\n",
      "    return ancestor.Ancestor(args.fasta, k=args.k, target=args.target,\r\n",
      "  File \"/Users/williamdewitt/Desktop/repos.nosync/mutyper/mutyper/ancestor.py\", line 34, in __init__\r\n",
      "    super(Ancestor, self).__init__(fasta, **kwargs)\r\n",
      "  File \"/Users/williamdewitt/Applications/miniconda2/envs/mutyperdocs/lib/python3.8/site-packages/pyfaidx/__init__.py\", line 995, in __init__\r\n",
      "    self.faidx = Faidx(\r\n",
      "  File \"/Users/williamdewitt/Applications/miniconda2/envs/mutyperdocs/lib/python3.8/site-packages/pyfaidx/__init__.py\", line 425, in __init__\r\n",
      "    self.read_fai()\r\n",
      "  File \"/Users/williamdewitt/Applications/miniconda2/envs/mutyperdocs/lib/python3.8/site-packages/pyfaidx/__init__.py\", line 492, in read_fai\r\n",
      "    raise ValueError('Duplicate key \"%s\"' % key)\r\n",
      "ValueError: Duplicate key \"ANCESTOR_for_chromosome\"\r\n"
     ]
    },
    {
     "name": "stdout",
     "output_type": "stream",
     "text": [
      "Traceback (most recent call last):\r\n",
      "  File \"/Users/williamdewitt/Applications/miniconda2/envs/mutyperdocs/bin/mutyper\", line 33, in <module>\r\n",
      "    sys.exit(load_entry_point('mutyper', 'console_scripts', 'mutyper')())\r\n",
      "  File \"/Users/williamdewitt/Desktop/repos.nosync/mutyper/mutyper/cli.py\", line 305, in main\r\n",
      "    args.func(args)\r\n",
      "  File \"/Users/williamdewitt/Desktop/repos.nosync/mutyper/mutyper/cli.py\", line 145, in spectra\r\n",
      "    vcf = cyvcf2.VCF(args.vcf, gts012=True)\r\n",
      "  File \"cyvcf2/cyvcf2.pyx\", line 265, in cyvcf2.cyvcf2.VCF.__init__\r\n",
      "  File \"cyvcf2/cyvcf2.pyx\", line 200, in cyvcf2.cyvcf2.HTSFile._open_htsfile\r\n",
      "OSError: - is not valid bcf or vcf (format: 15 mode: r)\r\n"
     ]
    }
   ],
   "source": [
    "!mutyper variants {fasta} {vcf} | mutyper spectra - | head | cut -f-5"
   ]
  },
  {
   "cell_type": "markdown",
   "metadata": {},
   "source": [
    "Use the `--population` to get the spectrum for whole population, rather than each individual"
   ]
  },
  {
   "cell_type": "code",
   "execution_count": 27,
   "metadata": {},
   "outputs": [
    {
     "name": "stdout",
     "output_type": "stream",
     "text": [
      "Traceback (most recent call last):\r\n",
      "  File \"/Users/williamdewitt/Applications/miniconda2/envs/mutyperdocs/bin/mutyper\", line 33, in <module>\r\n",
      "    sys.exit(load_entry_point('mutyper', 'console_scripts', 'mutyper')())\r\n",
      "  File \"/Users/williamdewitt/Desktop/repos.nosync/mutyper/mutyper/cli.py\", line 305, in main\r\n",
      "    args.func(args)\r\n",
      "  File \"/Users/williamdewitt/Desktop/repos.nosync/mutyper/mutyper/cli.py\", line 87, in variants\r\n",
      "    ancestor = setup_ancestor(args)\r\n",
      "  File \"/Users/williamdewitt/Desktop/repos.nosync/mutyper/mutyper/cli.py\", line 21, in setup_ancestor\r\n",
      "    return ancestor.Ancestor(args.fasta, k=args.k, target=args.target,\r\n",
      "  File \"/Users/williamdewitt/Desktop/repos.nosync/mutyper/mutyper/ancestor.py\", line 34, in __init__\r\n",
      "    super(Ancestor, self).__init__(fasta, **kwargs)\r\n",
      "  File \"/Users/williamdewitt/Applications/miniconda2/envs/mutyperdocs/lib/python3.8/site-packages/pyfaidx/__init__.py\", line 995, in __init__\r\n",
      "    self.faidx = Faidx(\r\n",
      "  File \"/Users/williamdewitt/Applications/miniconda2/envs/mutyperdocs/lib/python3.8/site-packages/pyfaidx/__init__.py\", line 425, in __init__\r\n",
      "    self.read_fai()\r\n",
      "  File \"/Users/williamdewitt/Applications/miniconda2/envs/mutyperdocs/lib/python3.8/site-packages/pyfaidx/__init__.py\", line 492, in read_fai\r\n",
      "    raise ValueError('Duplicate key \"%s\"' % key)\r\n",
      "ValueError: Duplicate key \"ANCESTOR_for_chromosome\"\r\n"
     ]
    },
    {
     "name": "stdout",
     "output_type": "stream",
     "text": [
      "Traceback (most recent call last):\r\n",
      "  File \"/Users/williamdewitt/Applications/miniconda2/envs/mutyperdocs/bin/mutyper\", line 33, in <module>\r\n",
      "    sys.exit(load_entry_point('mutyper', 'console_scripts', 'mutyper')())\r\n",
      "  File \"/Users/williamdewitt/Desktop/repos.nosync/mutyper/mutyper/cli.py\", line 305, in main\r\n",
      "    args.func(args)\r\n",
      "  File \"/Users/williamdewitt/Desktop/repos.nosync/mutyper/mutyper/cli.py\", line 145, in spectra\r\n",
      "    vcf = cyvcf2.VCF(args.vcf, gts012=True)\r\n",
      "  File \"cyvcf2/cyvcf2.pyx\", line 265, in cyvcf2.cyvcf2.VCF.__init__\r\n",
      "  File \"cyvcf2/cyvcf2.pyx\", line 200, in cyvcf2.cyvcf2.HTSFile._open_htsfile\r\n",
      "OSError: - is not valid bcf or vcf (format: 15 mode: r)\r\n"
     ]
    }
   ],
   "source": [
    "!mutyper variants {fasta} {vcf} | mutyper spectra - --population | head | cut -f-5"
   ]
  },
  {
   "cell_type": "markdown",
   "metadata": {
    "slideshow": {
     "slide_type": "slide"
    }
   },
   "source": [
    "### `ksfs` subcommand\n",
    "\n",
    "Usage:"
   ]
  },
  {
   "cell_type": "code",
   "execution_count": 28,
   "metadata": {},
   "outputs": [
    {
     "name": "stdout",
     "output_type": "stream",
     "text": [
      "usage: mutyper ksfs [-h] vcf\r\n",
      "\r\n",
      "compute sample frequency spectrum for each mutation type from a VCF/BCF file\r\n",
      "with mutation_type data (i.e. output from variants subcommand ) and stream to\r\n",
      "stdout\r\n",
      "\r\n",
      "positional arguments:\r\n",
      "  vcf         VCF/BCF file, usually for a single chromosome (\"-\" for stdin)\r\n",
      "\r\n",
      "optional arguments:\r\n",
      "  -h, --help  show this help message and exit\r\n"
     ]
    }
   ],
   "source": [
    "!mutyper ksfs -h"
   ]
  },
  {
   "cell_type": "markdown",
   "metadata": {},
   "source": [
    "Similar to the previous subcommand, but now we are generating a sample frequency spectrum (SFS) for each mutation type."
   ]
  },
  {
   "cell_type": "code",
   "execution_count": 29,
   "metadata": {},
   "outputs": [
    {
     "name": "stdout",
     "output_type": "stream",
     "text": [
      "Traceback (most recent call last):\r\n",
      "  File \"/Users/williamdewitt/Applications/miniconda2/envs/mutyperdocs/bin/mutyper\", line 33, in <module>\r\n",
      "    sys.exit(load_entry_point('mutyper', 'console_scripts', 'mutyper')())\r\n",
      "  File \"/Users/williamdewitt/Desktop/repos.nosync/mutyper/mutyper/cli.py\", line 305, in main\r\n",
      "    args.func(args)\r\n",
      "  File \"/Users/williamdewitt/Desktop/repos.nosync/mutyper/mutyper/cli.py\", line 87, in variants\r\n",
      "    ancestor = setup_ancestor(args)\r\n",
      "  File \"/Users/williamdewitt/Desktop/repos.nosync/mutyper/mutyper/cli.py\", line 21, in setup_ancestor\r\n",
      "    return ancestor.Ancestor(args.fasta, k=args.k, target=args.target,\r\n",
      "  File \"/Users/williamdewitt/Desktop/repos.nosync/mutyper/mutyper/ancestor.py\", line 34, in __init__\r\n",
      "    super(Ancestor, self).__init__(fasta, **kwargs)\r\n",
      "  File \"/Users/williamdewitt/Applications/miniconda2/envs/mutyperdocs/lib/python3.8/site-packages/pyfaidx/__init__.py\", line 995, in __init__\r\n",
      "    self.faidx = Faidx(\r\n",
      "  File \"/Users/williamdewitt/Applications/miniconda2/envs/mutyperdocs/lib/python3.8/site-packages/pyfaidx/__init__.py\", line 425, in __init__\r\n",
      "    self.read_fai()\r\n",
      "  File \"/Users/williamdewitt/Applications/miniconda2/envs/mutyperdocs/lib/python3.8/site-packages/pyfaidx/__init__.py\", line 492, in read_fai\r\n",
      "    raise ValueError('Duplicate key \"%s\"' % key)\r\n",
      "ValueError: Duplicate key \"ANCESTOR_for_chromosome\"\r\n"
     ]
    },
    {
     "name": "stdout",
     "output_type": "stream",
     "text": [
      "Traceback (most recent call last):\r\n",
      "  File \"/Users/williamdewitt/Applications/miniconda2/envs/mutyperdocs/bin/mutyper\", line 33, in <module>\r\n",
      "    sys.exit(load_entry_point('mutyper', 'console_scripts', 'mutyper')())\r\n",
      "  File \"/Users/williamdewitt/Desktop/repos.nosync/mutyper/mutyper/cli.py\", line 305, in main\r\n",
      "    args.func(args)\r\n",
      "  File \"/Users/williamdewitt/Desktop/repos.nosync/mutyper/mutyper/cli.py\", line 181, in ksfs\r\n",
      "    vcf = cyvcf2.VCF(args.vcf)\r\n",
      "  File \"cyvcf2/cyvcf2.pyx\", line 265, in cyvcf2.cyvcf2.VCF.__init__\r\n",
      "  File \"cyvcf2/cyvcf2.pyx\", line 200, in cyvcf2.cyvcf2.HTSFile._open_htsfile\r\n",
      "OSError: - is not valid bcf or vcf (format: 15 mode: r)\r\n"
     ]
    }
   ],
   "source": [
    "!mutyper variants {fasta} {vcf} | mutyper ksfs - | head | cut -f-5"
   ]
  }
 ],
 "metadata": {
  "celltoolbar": "Slideshow",
  "kernelspec": {
   "display_name": "Python 3",
   "language": "python",
   "name": "python3"
  },
  "language_info": {
   "codemirror_mode": {
    "name": "ipython",
    "version": 3
   },
   "file_extension": ".py",
   "mimetype": "text/x-python",
   "name": "python",
   "nbconvert_exporter": "python",
   "pygments_lexer": "ipython3",
   "version": "3.8.3"
  }
 },
 "nbformat": 4,
 "nbformat_minor": 4
}
